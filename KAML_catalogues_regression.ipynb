{
  "nbformat": 4,
  "nbformat_minor": 0,
  "metadata": {
    "colab": {
      "name": "Untitled2.ipynb",
      "provenance": [],
      "gpuType": "T4",
      "include_colab_link": true
    },
    "kernelspec": {
      "name": "python3",
      "display_name": "Python 3"
    },
    "language_info": {
      "name": "python"
    },
    "accelerator": "GPU"
  },
  "cells": [
    {
      "cell_type": "markdown",
      "metadata": {
        "id": "view-in-github",
        "colab_type": "text"
      },
      "source": [
        "<a href=\"https://colab.research.google.com/github/csabiu/KAML-2025/blob/main/KAML_catalogues_regression.ipynb\" target=\"_parent\"><img src=\"https://colab.research.google.com/assets/colab-badge.svg\" alt=\"Open In Colab\"/></a>"
      ]
    },
    {
      "cell_type": "markdown",
      "metadata": {
        "id": "0wjF-C5Xv3m1"
      },
      "source": [
        "Supervised Regression problem\n",
        "\n",
        "In this notebook we will use neural network algorihtms to learn a mapping between galaxy magnitudes and colors and the spectroscopic redshift.\n",
        "\n"
      ]
    },
    {
      "cell_type": "markdown",
      "metadata": {
        "id": "E-MsBQHtvoAT"
      },
      "source": [
        "# Load some libraries"
      ]
    },
    {
      "cell_type": "code",
      "metadata": {
        "id": "j7BBLnrH0dj4"
      },
      "source": [
        "pip install astroquery"
      ],
      "execution_count": null,
      "outputs": []
    },
    {
      "cell_type": "code",
      "metadata": {
        "id": "srdVtr1P8qYS"
      },
      "source": [
        "%matplotlib inline\n",
        "import numpy as np\n",
        "import matplotlib.pyplot as plt\n",
        "from astropy.table import Table\n",
        "from sklearn.model_selection import train_test_split"
      ],
      "execution_count": null,
      "outputs": []
    },
    {
      "cell_type": "markdown",
      "metadata": {
        "id": "4QhIBa43vuFu"
      },
      "source": [
        "# Doanload the dataset"
      ]
    },
    {
      "cell_type": "code",
      "source": [
        "from astroquery.sdss import SDSS\n",
        "\n",
        "# look for availabe tables and columns in\n",
        "# http://skyserver.sdss.org/dr12/en/help/browser/browser.aspx\n",
        "\n",
        "query = \" SELECT TOP 200000 objID, ra ,dec, z, zerr, class, \\\n",
        "        cModelMag_r as mag_r, cModelMag_g as mag_g, cModelMag_i as mag_i, \\\n",
        "        cModelMag_u as mag_u, cModelMag_z as mag_z \\\n",
        "        FROM  SpecPhotoAll  WHERE (class = 'GALAXY') \\\n",
        "        AND z>0.1 AND z<1. AND ra>200 AND ra<230 AND dec>10 AND dec<40\"\n",
        "\n",
        "\n",
        "d = SDSS.query_sql(query)"
      ],
      "metadata": {
        "id": "CXbj2KVNCOSr"
      },
      "execution_count": null,
      "outputs": []
    },
    {
      "cell_type": "markdown",
      "source": [
        "If the above query fails try the following..."
      ],
      "metadata": {
        "id": "Qro5RKd_3Ow5"
      }
    },
    {
      "cell_type": "code",
      "source": [
        "#import pandas as pd\n",
        "#d = pd.read_csv(\"https://archive.kasi.re.kr/bigdata/temp/KAML_catalogues_regression.csv \", header=0)\n"
      ],
      "metadata": {
        "id": "9yXlQUqn3USE"
      },
      "execution_count": null,
      "outputs": []
    },
    {
      "cell_type": "markdown",
      "metadata": {
        "id": "NguL_fy5vz3f"
      },
      "source": [
        "# Clean the data"
      ]
    },
    {
      "cell_type": "code",
      "metadata": {
        "id": "MqpfzYkpAYY9"
      },
      "source": [
        "#you can look at the all the features available to you\n",
        "# http://skyserver.sdss.org/dr14/en/help/browser/browser.aspx#&&history=description+PhotoObj+V\n",
        "\n",
        "print (d.keys())"
      ],
      "execution_count": null,
      "outputs": []
    },
    {
      "cell_type": "markdown",
      "metadata": {
        "id": "oiMEo0uhwJ0h"
      },
      "source": [
        "# for photo-z work\n",
        "# The target/label values are spectroscopic redshifts"
      ]
    },
    {
      "cell_type": "code",
      "source": [
        "# we will use just dereddend magnitudes\n",
        "mags = ['mag_g', 'mag_r', 'mag_i','mag_z','mag_u']\n",
        "d=d[d[mags[0]]==d[mags[0]]]\n",
        "d=d[d[mags[1]]==d[mags[1]]]\n",
        "d=d[d[mags[2]]==d[mags[2]]]\n",
        "d=d[d[mags[3]]==d[mags[3]]]\n",
        "d=d[d[mags[4]]==d[mags[4]]]\n",
        "\n",
        "def f(x):\n",
        "    return float(x)\n",
        "f2 = np.vectorize(f)\n",
        "\n",
        "#and color combinations created from them.\n",
        "cols= []\n",
        "for i in range(len(mags)-1):\n",
        "    for j in range(i, len(mags)):\n",
        "        cols.append(mags[i]+'-' + mags[j])\n",
        "\n",
        "# let's load these into an input array\n",
        "inputs = np.zeros((len(d), len(mags+cols)), dtype=float)\n",
        "for i, key in enumerate(mags):\n",
        "    inputs[:, i] = np.array(d[key])\n",
        "\n",
        "cnt = len(mags)\n",
        "for i in range(len(mags)-1):\n",
        "    for j in range(i, len(mags)):\n",
        "        inputs[:, cnt] = np.array(f2(d[mags[i]])) - np.array(f2(d[mags[j]]))\n",
        "        cnt += 1\n"
      ],
      "metadata": {
        "id": "zC4y2Nv5C5HW"
      },
      "execution_count": null,
      "outputs": []
    },
    {
      "cell_type": "code",
      "metadata": {
        "id": "Y0pWLAQaeLVR"
      },
      "source": [
        "targets = np.array(f2(d['z']))"
      ],
      "execution_count": null,
      "outputs": []
    },
    {
      "cell_type": "markdown",
      "metadata": {
        "id": "X0lrilnUwEbY"
      },
      "source": [
        "# we will split the data into a trainind and testing sample.\n"
      ]
    },
    {
      "cell_type": "code",
      "metadata": {
        "id": "9oDjSGp8eQ3v"
      },
      "source": [
        "x_train, x_test, y_train, y_test = train_test_split(inputs, targets, test_size=0.4, random_state=42)\n",
        "\n",
        "print(\"Training inputs: \",x_train.shape)\n",
        "print(\"Training outputs: \",y_train.shape)\n",
        "print(\"Testing inputs: \",x_test.shape)\n",
        "print(\"Testing outputs: \",y_test.shape)"
      ],
      "execution_count": null,
      "outputs": []
    },
    {
      "cell_type": "markdown",
      "source": [
        "# Import Tensorflow"
      ],
      "metadata": {
        "id": "hEaUkFg6WwCU"
      }
    },
    {
      "cell_type": "code",
      "metadata": {
        "id": "w_SKaIZewjjk"
      },
      "source": [
        "import tensorflow as tf"
      ],
      "execution_count": null,
      "outputs": []
    },
    {
      "cell_type": "code",
      "metadata": {
        "id": "OXxvy91wzgnb"
      },
      "source": [
        "def get_compiled_model():\n",
        "  model = tf.keras.Sequential([\n",
        "      tf.keras.layers.Input(shape=(19,)),\n",
        "      tf.keras.layers.Dense(64, activation='sigmoid'),\n",
        "      tf.keras.layers.Dense(1)\n",
        "  ])\n",
        "\n",
        "  model.compile(loss='mean_squared_error',\n",
        "                optimizer=tf.keras.optimizers.Adam(0.001))\n",
        "  return model\n",
        "\n",
        "model = get_compiled_model()\n",
        "model.build()\n",
        "model.summary()"
      ],
      "execution_count": null,
      "outputs": []
    },
    {
      "cell_type": "code",
      "source": [
        "hist=model.fit(x_train,y_train,validation_split=0.2,epochs=10,batch_size=128,shuffle=True)"
      ],
      "metadata": {
        "id": "RJgrp0YNz0NG"
      },
      "execution_count": null,
      "outputs": []
    },
    {
      "cell_type": "code",
      "source": [
        "plt.plot(hist.history['val_loss'],'r-',label='val loss')\n",
        "plt.plot(hist.history['loss'],'k-',label='loss')\n",
        "plt.ylabel('loss')\n",
        "plt.xlabel('epoch')\n",
        "plt.yscale('log')\n",
        "plt.legend()"
      ],
      "metadata": {
        "id": "JQLcKIGyxpno"
      },
      "execution_count": null,
      "outputs": []
    },
    {
      "cell_type": "markdown",
      "source": [
        "Is the model still learning? Are both the loss and val_loss decreasing? When should we stop training?"
      ],
      "metadata": {
        "id": "BFAdKnE4FL7e"
      }
    },
    {
      "cell_type": "code",
      "source": [
        "# let's add a stopping criteria\n",
        "callback = tf.keras.callbacks.EarlyStopping(monitor='val_loss', patience=10)\n",
        "\n",
        "model = get_compiled_model()\n",
        "hist=model.fit(x_train,y_train,validation_split=0.2,epochs=100,batch_size=128,shuffle=True,callbacks=[callback])"
      ],
      "metadata": {
        "id": "Pms6gFzDFXAU"
      },
      "execution_count": null,
      "outputs": []
    },
    {
      "cell_type": "code",
      "source": [
        "plt.plot(hist.history['val_loss'],'r-',label='val loss')\n",
        "plt.plot(hist.history['loss'],'k-',label='loss')\n",
        "plt.ylabel('loss')\n",
        "plt.xlabel('epoch')\n",
        "plt.yscale('log')\n",
        "plt.legend()"
      ],
      "metadata": {
        "id": "UlwefZuRGMai"
      },
      "execution_count": null,
      "outputs": []
    },
    {
      "cell_type": "code",
      "source": [
        "pred=model.predict(x_test).squeeze()\n",
        "\n",
        "plt.plot(pred,y_test,',')\n",
        "plt.plot([0, 1],[0, 1],'--')\n",
        "plt.ylabel('z spec [true]')\n",
        "plt.xlabel('z photo [pred]')\n",
        "plt.show()"
      ],
      "metadata": {
        "id": "8QVkx5FC0yzF"
      },
      "execution_count": null,
      "outputs": []
    },
    {
      "cell_type": "code",
      "source": [
        "specz=[0.5,0.55]\n",
        "a=plt.hist(pred[(y_test>specz[0]) & (y_test<specz[1])],30)\n",
        "plt.plot([specz[0],specz[0]],[0,1.1*np.max(a[0])],'r--')\n",
        "plt.plot([specz[1],specz[1]],[0,1.1*np.max(a[0])],'r--')\n",
        "plt.xlim((0.3,0.65))\n",
        "\n",
        "print('dispersion: ',np.std(pred[(y_test>specz[0]) & (y_test<specz[1])]))"
      ],
      "metadata": {
        "id": "lzWwyxh62CQG"
      },
      "execution_count": null,
      "outputs": []
    },
    {
      "cell_type": "markdown",
      "source": [
        "Sometimes the best model (lowest val_loss) is not the last epoch. So lets restore the weights of the model with the lowest val_loss."
      ],
      "metadata": {
        "id": "4CE_mxMfGSUq"
      }
    },
    {
      "cell_type": "code",
      "source": [
        "# let's save and restore the best model\n",
        "call_save = tf.keras.callbacks.ModelCheckpoint(filepath='best_model.weights.h5',\n",
        "                                              save_weights_only=True,\n",
        "                                              monitor='val_loss',\n",
        "                                              mode='min',\n",
        "                                              save_best_only=True)\n",
        "\n",
        "model = get_compiled_model()\n",
        "hist=model.fit(x_train,y_train,validation_split=0.2,epochs=100,batch_size=128,shuffle=True,callbacks=[callback, call_save])"
      ],
      "metadata": {
        "id": "jBQovd90G0lY"
      },
      "execution_count": null,
      "outputs": []
    },
    {
      "cell_type": "code",
      "source": [
        "# now restore the best model before prediction\n",
        "model.load_weights('best_model.weights.h5')\n",
        "\n",
        "pred=model.predict(x_test).squeeze()\n",
        "\n",
        "plt.plot(pred,y_test,',')\n",
        "plt.plot([0, 1],[0, 1],'--')\n",
        "plt.ylabel('z spec [true]')\n",
        "plt.xlabel('z photo [pred]')\n",
        "plt.show()\n"
      ],
      "metadata": {
        "id": "ebAyBr2JI2wm"
      },
      "execution_count": null,
      "outputs": []
    },
    {
      "cell_type": "markdown",
      "source": [
        "# Assignment 3:\n",
        "\n",
        "\n",
        "*   Try different activation functions and learning rates\n",
        "*   What is the best val_loss you can get\n",
        "*   What is the lowest dispersion on for 0.5< spec z < 0.55\n",
        "\n"
      ],
      "metadata": {
        "id": "15jUwRfvJa77"
      }
    },
    {
      "cell_type": "code",
      "source": [
        "\n",
        "\n",
        "\n"
      ],
      "metadata": {
        "id": "3W65ZprpFK6k"
      },
      "execution_count": null,
      "outputs": []
    }
  ]
}