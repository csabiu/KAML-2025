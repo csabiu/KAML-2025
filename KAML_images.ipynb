{
  "nbformat": 4,
  "nbformat_minor": 0,
  "metadata": {
    "colab": {
      "provenance": [],
      "authorship_tag": "ABX9TyMVdr8CWFGarshGAADYZ/qx",
      "include_colab_link": true
    },
    "kernelspec": {
      "name": "python3",
      "display_name": "Python 3"
    },
    "language_info": {
      "name": "python"
    }
  },
  "cells": [
    {
      "cell_type": "markdown",
      "metadata": {
        "id": "view-in-github",
        "colab_type": "text"
      },
      "source": [
        "<a href=\"https://colab.research.google.com/github/csabiu/KAML-2025/blob/main/KAML_images.ipynb\" target=\"_parent\"><img src=\"https://colab.research.google.com/assets/colab-badge.svg\" alt=\"Open In Colab\"/></a>"
      ]
    },
    {
      "cell_type": "code",
      "source": [
        "pip install astroquery"
      ],
      "metadata": {
        "colab": {
          "base_uri": "https://localhost:8080/"
        },
        "id": "PRr89rcVChrG",
        "outputId": "86076733-3f59-46bd-a411-3cc3270b819b"
      },
      "execution_count": 4,
      "outputs": [
        {
          "output_type": "stream",
          "name": "stdout",
          "text": [
            "Collecting astroquery\n",
            "  Downloading astroquery-0.4.10-py3-none-any.whl.metadata (6.3 kB)\n",
            "Requirement already satisfied: numpy>=1.20 in /usr/local/lib/python3.11/dist-packages (from astroquery) (2.0.2)\n",
            "Requirement already satisfied: astropy>=5.0 in /usr/local/lib/python3.11/dist-packages (from astroquery) (7.0.1)\n",
            "Requirement already satisfied: requests>=2.19 in /usr/local/lib/python3.11/dist-packages (from astroquery) (2.32.3)\n",
            "Requirement already satisfied: beautifulsoup4>=4.8 in /usr/local/lib/python3.11/dist-packages (from astroquery) (4.13.4)\n",
            "Requirement already satisfied: html5lib>=0.999 in /usr/local/lib/python3.11/dist-packages (from astroquery) (1.1)\n",
            "Requirement already satisfied: keyring>=15.0 in /usr/local/lib/python3.11/dist-packages (from astroquery) (25.6.0)\n",
            "Collecting pyvo>=1.5 (from astroquery)\n",
            "  Downloading pyvo-1.6.2-py3-none-any.whl.metadata (4.7 kB)\n",
            "Requirement already satisfied: pyerfa>=2.0.1.1 in /usr/local/lib/python3.11/dist-packages (from astropy>=5.0->astroquery) (2.0.1.5)\n",
            "Requirement already satisfied: astropy-iers-data>=0.2025.1.31.12.41.4 in /usr/local/lib/python3.11/dist-packages (from astropy>=5.0->astroquery) (0.2025.4.14.0.37.22)\n",
            "Requirement already satisfied: PyYAML>=6.0.0 in /usr/local/lib/python3.11/dist-packages (from astropy>=5.0->astroquery) (6.0.2)\n",
            "Requirement already satisfied: packaging>=22.0.0 in /usr/local/lib/python3.11/dist-packages (from astropy>=5.0->astroquery) (24.2)\n",
            "Requirement already satisfied: soupsieve>1.2 in /usr/local/lib/python3.11/dist-packages (from beautifulsoup4>=4.8->astroquery) (2.6)\n",
            "Requirement already satisfied: typing-extensions>=4.0.0 in /usr/local/lib/python3.11/dist-packages (from beautifulsoup4>=4.8->astroquery) (4.13.2)\n",
            "Requirement already satisfied: six>=1.9 in /usr/local/lib/python3.11/dist-packages (from html5lib>=0.999->astroquery) (1.17.0)\n",
            "Requirement already satisfied: webencodings in /usr/local/lib/python3.11/dist-packages (from html5lib>=0.999->astroquery) (0.5.1)\n",
            "Requirement already satisfied: SecretStorage>=3.2 in /usr/local/lib/python3.11/dist-packages (from keyring>=15.0->astroquery) (3.3.3)\n",
            "Requirement already satisfied: jeepney>=0.4.2 in /usr/local/lib/python3.11/dist-packages (from keyring>=15.0->astroquery) (0.9.0)\n",
            "Requirement already satisfied: importlib_metadata>=4.11.4 in /usr/local/lib/python3.11/dist-packages (from keyring>=15.0->astroquery) (8.6.1)\n",
            "Requirement already satisfied: jaraco.classes in /usr/local/lib/python3.11/dist-packages (from keyring>=15.0->astroquery) (3.4.0)\n",
            "Requirement already satisfied: jaraco.functools in /usr/local/lib/python3.11/dist-packages (from keyring>=15.0->astroquery) (4.1.0)\n",
            "Requirement already satisfied: jaraco.context in /usr/local/lib/python3.11/dist-packages (from keyring>=15.0->astroquery) (6.0.1)\n",
            "Requirement already satisfied: charset-normalizer<4,>=2 in /usr/local/lib/python3.11/dist-packages (from requests>=2.19->astroquery) (3.4.1)\n",
            "Requirement already satisfied: idna<4,>=2.5 in /usr/local/lib/python3.11/dist-packages (from requests>=2.19->astroquery) (3.10)\n",
            "Requirement already satisfied: urllib3<3,>=1.21.1 in /usr/local/lib/python3.11/dist-packages (from requests>=2.19->astroquery) (2.3.0)\n",
            "Requirement already satisfied: certifi>=2017.4.17 in /usr/local/lib/python3.11/dist-packages (from requests>=2.19->astroquery) (2025.1.31)\n",
            "Requirement already satisfied: zipp>=3.20 in /usr/local/lib/python3.11/dist-packages (from importlib_metadata>=4.11.4->keyring>=15.0->astroquery) (3.21.0)\n",
            "Requirement already satisfied: cryptography>=2.0 in /usr/local/lib/python3.11/dist-packages (from SecretStorage>=3.2->keyring>=15.0->astroquery) (43.0.3)\n",
            "Requirement already satisfied: more-itertools in /usr/local/lib/python3.11/dist-packages (from jaraco.classes->keyring>=15.0->astroquery) (10.6.0)\n",
            "Requirement already satisfied: backports.tarfile in /usr/local/lib/python3.11/dist-packages (from jaraco.context->keyring>=15.0->astroquery) (1.2.0)\n",
            "Requirement already satisfied: cffi>=1.12 in /usr/local/lib/python3.11/dist-packages (from cryptography>=2.0->SecretStorage>=3.2->keyring>=15.0->astroquery) (1.17.1)\n",
            "Requirement already satisfied: pycparser in /usr/local/lib/python3.11/dist-packages (from cffi>=1.12->cryptography>=2.0->SecretStorage>=3.2->keyring>=15.0->astroquery) (2.22)\n",
            "Downloading astroquery-0.4.10-py3-none-any.whl (11.1 MB)\n",
            "\u001b[2K   \u001b[90m━━━━━━━━━━━━━━━━━━━━━━━━━━━━━━━━━━━━━━━━\u001b[0m \u001b[32m11.1/11.1 MB\u001b[0m \u001b[31m89.2 MB/s\u001b[0m eta \u001b[36m0:00:00\u001b[0m\n",
            "\u001b[?25hDownloading pyvo-1.6.2-py3-none-any.whl (999 kB)\n",
            "\u001b[2K   \u001b[90m━━━━━━━━━━━━━━━━━━━━━━━━━━━━━━━━━━━━━━━━\u001b[0m \u001b[32m999.4/999.4 kB\u001b[0m \u001b[31m51.0 MB/s\u001b[0m eta \u001b[36m0:00:00\u001b[0m\n",
            "\u001b[?25hInstalling collected packages: pyvo, astroquery\n",
            "Successfully installed astroquery-0.4.10 pyvo-1.6.2\n"
          ]
        }
      ]
    },
    {
      "cell_type": "code",
      "execution_count": 5,
      "metadata": {
        "colab": {
          "base_uri": "https://localhost:8080/"
        },
        "id": "s7YvO0e6A37X",
        "outputId": "2c10c6ac-ef0f-4c09-ef1a-ce3e23ae2cb5"
      },
      "outputs": [
        {
          "output_type": "stream",
          "name": "stdout",
          "text": [
            "Failed to fetch 587736542021812480: SDSSClass.get_images() got an unexpected keyword argument 'coord'\n",
            "Failed to fetch 588009370152927360: SDSSClass.get_images() got an unexpected keyword argument 'coord'\n",
            "Failed to fetch 588017627774713984: SDSSClass.get_images() got an unexpected keyword argument 'coord'\n",
            "Failed to fetch 588007005259890816: SDSSClass.get_images() got an unexpected keyword argument 'coord'\n",
            "Failed to fetch 587734893829423232: SDSSClass.get_images() got an unexpected keyword argument 'coord'\n",
            "Failed to fetch 587741489829314688: SDSSClass.get_images() got an unexpected keyword argument 'coord'\n",
            "Failed to fetch 587741603109667072: SDSSClass.get_images() got an unexpected keyword argument 'coord'\n",
            "Failed to fetch 588023722322493696: SDSSClass.get_images() got an unexpected keyword argument 'coord'\n",
            "Failed to fetch 588023668628586624: SDSSClass.get_images() got an unexpected keyword argument 'coord'\n",
            "Failed to fetch 587742012763930880: SDSSClass.get_images() got an unexpected keyword argument 'coord'\n",
            "Failed to fetch 587729751132864896: SDSSClass.get_images() got an unexpected keyword argument 'coord'\n",
            "Failed to fetch 587742572147245056: SDSSClass.get_images() got an unexpected keyword argument 'coord'\n",
            "Failed to fetch 588018056204058880: SDSSClass.get_images() got an unexpected keyword argument 'coord'\n",
            "Failed to fetch 587732482748383360: SDSSClass.get_images() got an unexpected keyword argument 'coord'\n",
            "Failed to fetch 587733080273322112: SDSSClass.get_images() got an unexpected keyword argument 'coord'\n",
            "Failed to fetch 587736751932506368: SDSSClass.get_images() got an unexpected keyword argument 'coord'\n",
            "Failed to fetch 588018090009952512: SDSSClass.get_images() got an unexpected keyword argument 'coord'\n",
            "Failed to fetch 587735043075997952: SDSSClass.get_images() got an unexpected keyword argument 'coord'\n",
            "Failed to fetch 587725491599900928: SDSSClass.get_images() got an unexpected keyword argument 'coord'\n",
            "Failed to fetch 587736546853781888: SDSSClass.get_images() got an unexpected keyword argument 'coord'\n"
          ]
        }
      ],
      "source": [
        "# 1) Install dependencies (in Colab you’d run these once):\n",
        "# !pip install astroquery pandas pillow\n",
        "\n",
        "import os\n",
        "import numpy as np\n",
        "import pandas as pd\n",
        "from astroquery.sdss import SDSS\n",
        "from astropy import coordinates as coords\n",
        "from astropy import units as u\n",
        "from PIL import Image\n",
        "import matplotlib.pyplot as plt\n",
        "\n",
        "\n",
        "# 2) Download the debiased GZ2 Table 1 (Hart et al. 2016)\n",
        "#    This CSV has ~240 000 galaxies with ra, dec, dr7objid, and vote fractions.\n",
        "url = 'https://gz2hart.s3.amazonaws.com/gz2_hart16.csv.gz'\n",
        "df = pd.read_csv(url, compression='gzip')\n",
        "# :contentReference[oaicite:0]{index=0}\n",
        "\n",
        "# 3) Sample a small set for our tutorial (e.g. 20 galaxies)\n",
        "df_sample = df.sample(n=20, random_state=42)[['dr7objid','ra','dec']]\n",
        "\n",
        "# 4) Create a directory to save your cutouts\n",
        "os.makedirs('cutouts', exist_ok=True)\n",
        "\n",
        "\n"
      ]
    },
    {
      "cell_type": "code",
      "source": [
        "# 5) Fetch and save RGB cutouts from SDSS\n",
        "for _, row in df_sample.iterrows():\n",
        "    objid = int(row['dr7objid'])\n",
        "    ra, dec = row['ra'], row['dec']\n",
        "    pos = coords.SkyCoord(ra, dec, unit=u.deg)\n",
        "    try:\n",
        "        # get_images returns a list of HDULists in the order of the 'band' list\n",
        "        hdulists = SDSS.get_images(pos, band=['g','r','i'],)\n",
        "        # assemble an (64×64×3) array\n",
        "        rgb = np.stack([hdulist[0].data for hdulist in hdulists], axis=-1)\n",
        "        # normalize to 0–255 for display\n",
        "        norm = (rgb - np.nanmin(rgb)) / (np.nanmax(rgb) - np.nanmin(rgb))\n",
        "        img8 = (norm * 255).astype(np.uint8)\n",
        "        Image.fromarray(img8).save(f'cutouts/{objid}.png')\n",
        "    except Exception as e:\n",
        "        print(f\"Failed to fetch {objid}: {e}\")"
      ],
      "metadata": {
        "colab": {
          "base_uri": "https://localhost:8080/"
        },
        "id": "zq3bE3r3Fxxo",
        "outputId": "97ce2837-67ed-449b-a25a-322171fc4b75"
      },
      "execution_count": 8,
      "outputs": [
        {
          "output_type": "stream",
          "name": "stdout",
          "text": [
            "Failed to fetch 587736542021812480: SDSSClass.get_images() takes 1 positional argument but 2 positional arguments (and 1 keyword-only argument) were given\n",
            "Failed to fetch 588009370152927360: SDSSClass.get_images() takes 1 positional argument but 2 positional arguments (and 1 keyword-only argument) were given\n",
            "Failed to fetch 588017627774713984: SDSSClass.get_images() takes 1 positional argument but 2 positional arguments (and 1 keyword-only argument) were given\n",
            "Failed to fetch 588007005259890816: SDSSClass.get_images() takes 1 positional argument but 2 positional arguments (and 1 keyword-only argument) were given\n",
            "Failed to fetch 587734893829423232: SDSSClass.get_images() takes 1 positional argument but 2 positional arguments (and 1 keyword-only argument) were given\n",
            "Failed to fetch 587741489829314688: SDSSClass.get_images() takes 1 positional argument but 2 positional arguments (and 1 keyword-only argument) were given\n",
            "Failed to fetch 587741603109667072: SDSSClass.get_images() takes 1 positional argument but 2 positional arguments (and 1 keyword-only argument) were given\n",
            "Failed to fetch 588023722322493696: SDSSClass.get_images() takes 1 positional argument but 2 positional arguments (and 1 keyword-only argument) were given\n",
            "Failed to fetch 588023668628586624: SDSSClass.get_images() takes 1 positional argument but 2 positional arguments (and 1 keyword-only argument) were given\n",
            "Failed to fetch 587742012763930880: SDSSClass.get_images() takes 1 positional argument but 2 positional arguments (and 1 keyword-only argument) were given\n",
            "Failed to fetch 587729751132864896: SDSSClass.get_images() takes 1 positional argument but 2 positional arguments (and 1 keyword-only argument) were given\n",
            "Failed to fetch 587742572147245056: SDSSClass.get_images() takes 1 positional argument but 2 positional arguments (and 1 keyword-only argument) were given\n",
            "Failed to fetch 588018056204058880: SDSSClass.get_images() takes 1 positional argument but 2 positional arguments (and 1 keyword-only argument) were given\n",
            "Failed to fetch 587732482748383360: SDSSClass.get_images() takes 1 positional argument but 2 positional arguments (and 1 keyword-only argument) were given\n",
            "Failed to fetch 587733080273322112: SDSSClass.get_images() takes 1 positional argument but 2 positional arguments (and 1 keyword-only argument) were given\n",
            "Failed to fetch 587736751932506368: SDSSClass.get_images() takes 1 positional argument but 2 positional arguments (and 1 keyword-only argument) were given\n",
            "Failed to fetch 588018090009952512: SDSSClass.get_images() takes 1 positional argument but 2 positional arguments (and 1 keyword-only argument) were given\n",
            "Failed to fetch 587735043075997952: SDSSClass.get_images() takes 1 positional argument but 2 positional arguments (and 1 keyword-only argument) were given\n",
            "Failed to fetch 587725491599900928: SDSSClass.get_images() takes 1 positional argument but 2 positional arguments (and 1 keyword-only argument) were given\n",
            "Failed to fetch 587736546853781888: SDSSClass.get_images() takes 1 positional argument but 2 positional arguments (and 1 keyword-only argument) were given\n"
          ]
        }
      ]
    },
    {
      "cell_type": "code",
      "source": [
        "plt.imshow(rgb[:,:,1])\n"
      ],
      "metadata": {
        "colab": {
          "base_uri": "https://localhost:8080/",
          "height": 444
        },
        "id": "ujg-PF2wKOcP",
        "outputId": "b82cfc84-9304-416d-88ac-5b2039a16779"
      },
      "execution_count": 46,
      "outputs": [
        {
          "output_type": "execute_result",
          "data": {
            "text/plain": [
              "<matplotlib.image.AxesImage at 0x78475bada990>"
            ]
          },
          "metadata": {},
          "execution_count": 46
        },
        {
          "output_type": "display_data",
          "data": {
            "text/plain": [
              "<Figure size 640x480 with 1 Axes>"
            ],
            "image/png": "[encoded data removed]"
          },
          "metadata": {}
        }
      ]
    },
    {
      "cell_type": "code",
      "source": [
        "import os\n",
        "import requests\n",
        "from PIL import Image\n",
        "from io import BytesIO\n",
        "\n",
        "# 1. Helper to fetch an SDSS JPEG cutout\n",
        "def fetch_sdss_cutout(ra, dec, scale=0.2, width=64, height=64, timeout=60):\n",
        "    \"\"\"\n",
        "    ra, dec     : sky coordinates in degrees\n",
        "    scale       : arcsec per pixel\n",
        "    width, height: cutout size in pixels\n",
        "    timeout     : seconds to wait for server\n",
        "    \"\"\"\n",
        "    url = \"https://skyserver.sdss.org/dr16/SkyServerWS/ImgCutout/getjpeg\"\n",
        "    params = {\n",
        "        'ra': ra,\n",
        "        'dec': dec,\n",
        "        'scale': scale,\n",
        "        'width': width,\n",
        "        'height': height,\n",
        "        'opt': 'G'   # produce an RGB image\n",
        "    }\n",
        "    r = requests.get(url, params=params, timeout=timeout)\n",
        "    r.raise_for_status()\n",
        "    return Image.open(BytesIO(r.content))\n",
        "\n",
        "# 2. Example: loop over your df_sample and save PNGs\n",
        "os.makedirs('cutouts_http', exist_ok=True)\n",
        "\n",
        "for _, row in df_sample.iterrows():\n",
        "    objid = int(row['dr7objid'])\n",
        "    ra, dec = row['ra'], row['dec']\n",
        "    try:\n",
        "        img = fetch_sdss_cutout(ra, dec,\n",
        "                                scale=0.2,   # ~0.2″/px\n",
        "                                width=128,\n",
        "                                height=128)\n",
        "        img.save(f'cutouts_http/{objid}.png')\n",
        "    except Exception as e:\n",
        "        print(f\"Failed {objid}: {e}\")\n"
      ],
      "metadata": {
        "id": "qj36sUDFOPhB"
      },
      "execution_count": 75,
      "outputs": []
    },
    {
      "cell_type": "code",
      "source": [
        "img."
      ],
      "metadata": {
        "colab": {
          "base_uri": "https://localhost:8080/",
          "height": 187
        },
        "id": "KC1Nxqk3PKJ4",
        "outputId": "3b608593-bd95-4cb4-db9a-bc0517321177"
      },
      "execution_count": 82,
      "outputs": [
        {
          "output_type": "execute_result",
          "data": {
            "text/plain": [
              "<bound method Image.getdata of <PIL.JpegImagePlugin.JpegImageFile image mode=RGB size=128x128 at 0x78475726CA10>>"
            ],
            "text/html": [
              "<div style=\"max-width:800px; border: 1px solid var(--colab-border-color);\"><style>\n",
              "      pre.function-repr-contents {\n",
              "        overflow-x: auto;\n",
              "        padding: 8px 12px;\n",
              "        max-height: 500px;\n",
              "      }\n",
              "\n",
              "      pre.function-repr-contents.function-repr-contents-collapsed {\n",
              "        cursor: pointer;\n",
              "        max-height: 100px;\n",
              "      }\n",
              "    </style>\n",
              "    <pre style=\"white-space: initial; background:\n",
              "         var(--colab-secondary-surface-color); padding: 8px 12px;\n",
              "         border-bottom: 1px solid var(--colab-border-color);\"><b>PIL.Image.Image.getdata</b><br/>def getdata(band: int | None=None) -&gt; core.ImagingCore</pre><pre class=\"function-repr-contents function-repr-contents-collapsed\" style=\"\"><a class=\"filepath\" style=\"display:none\" href=\"#\">/usr/local/lib/python3.11/dist-packages/PIL/Image.py</a>Returns the contents of this image as a sequence object\n",
              "containing pixel values.  The sequence object is flattened, so\n",
              "that values for line one follow directly after the values of\n",
              "line zero, and so on.\n",
              "\n",
              "Note that the sequence object returned by this method is an\n",
              "internal PIL data type, which only supports certain sequence\n",
              "operations.  To convert it to an ordinary sequence (e.g. for\n",
              "printing), use ``list(im.getdata())``.\n",
              "\n",
              ":param band: What band to return.  The default is to return\n",
              "   all bands.  To return a single band, pass in the index\n",
              "   value (e.g. 0 to get the &quot;R&quot; band from an &quot;RGB&quot; image).\n",
              ":returns: A sequence-like object.</pre>\n",
              "      <script>\n",
              "      if (google.colab.kernel.accessAllowed && google.colab.files && google.colab.files.view) {\n",
              "        for (const element of document.querySelectorAll('.filepath')) {\n",
              "          element.style.display = 'block'\n",
              "          element.onclick = (event) => {\n",
              "            event.preventDefault();\n",
              "            event.stopPropagation();\n",
              "            google.colab.files.view(element.textContent, 1438);\n",
              "          };\n",
              "        }\n",
              "      }\n",
              "      for (const element of document.querySelectorAll('.function-repr-contents')) {\n",
              "        element.onclick = (event) => {\n",
              "          event.preventDefault();\n",
              "          event.stopPropagation();\n",
              "          element.classList.toggle('function-repr-contents-collapsed');\n",
              "        };\n",
              "      }\n",
              "      </script>\n",
              "      </div>"
            ]
          },
          "metadata": {},
          "execution_count": 82
        }
      ]
    },
    {
      "cell_type": "code",
      "source": [],
      "metadata": {
        "id": "_WK4RbZRPPm3"
      },
      "execution_count": null,
      "outputs": []
    }
  ]
}